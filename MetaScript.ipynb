{
 "cells": [
  {
   "cell_type": "markdown",
   "id": "1c4ab7b6-0257-4ae5-bd9e-1b9d066fae9e",
   "metadata": {},
   "source": [
    "# Scaling Fluorescence Analysis\n",
    "\n",
    "In this notebook we scale the fluorescence analysis :rocket: to distinguish aerobic and anaerobic growth conditions using a GFP fluorescence singal."
   ]
  },
  {
   "cell_type": "markdown",
   "id": "47d87d2c-4067-411e-8378-898746fd01f8",
   "metadata": {},
   "source": [
    "## Defining image sequences\n",
    "\n",
    "Here we have to types of experiments with `aerobic` and `anaerobic` cultivation conditions. We have selected 5 images sequences."
   ]
  },
  {
   "cell_type": "code",
   "execution_count": null,
   "id": "8b8360ba-d887-4012-944c-b33665aedbf1",
   "metadata": {},
   "outputs": [],
   "source": [
    "aerobic_images = [17406, 17407, 17408, 17409, 17410]\n",
    "anaerobic_images = [17411, 17412, 17413, 17414, 17415]"
   ]
  },
  {
   "cell_type": "markdown",
   "id": "775ebbfa-935b-4674-b397-66d8666729c4",
   "metadata": {},
   "source": [
    "## Helper function to execute analyses on images\n",
    "\n",
    "We write a helper function that executes the fluorescence analysis for the different image sequences."
   ]
  },
  {
   "cell_type": "code",
   "execution_count": null,
   "id": "922254be-e84f-4848-bc69-9998878155af",
   "metadata": {},
   "outputs": [],
   "source": [
    "import papermill as pm\n",
    "import shutil\n",
    "import os\n",
    "\n",
    "from pathlib import Path\n",
    "from datetime import datetime\n",
    "\n",
    "# this is a utility function\n",
    "def analyze_image(script_to_execute, image_id, timestamp=None):\n",
    "    # create the storage folder\n",
    "    stem = Path(script_to_execute).stem\n",
    "    if timestamp is None:\n",
    "        timestamp = datetime.today()\n",
    "\n",
    "    output_path = Path(\"./automated_executions\") / stem / timestamp.isoformat()\n",
    "    execution_path = output_path / f\"execution_{image_id}\"\n",
    "\n",
    "    # the parameters for the notebook\n",
    "    parameter_list = dict(input_image_file=str((Path(\"data\") / f\"{image_id}.tif\").absolute()), output_path=str(execution_path.absolute()))\n",
    "\n",
    "    notebook_file = execution_path / \"notebook.ipynb\"\n",
    "\n",
    "    os.makedirs(Path(notebook_file).parent, exist_ok=False)\n",
    "    shutil.copy(script_to_execute, notebook_file)\n",
    "\n",
    "    pm.execute_notebook(\n",
    "        notebook_file,\n",
    "        notebook_file,\n",
    "        parameters = parameter_list,\n",
    "        cwd=notebook_file.parent\n",
    "    )"
   ]
  },
  {
   "cell_type": "markdown",
   "id": "a204ca96-4922-409d-932b-6f1fc97defce",
   "metadata": {},
   "source": [
    "## Execute the segmentation and data extraction for all images\n",
    "\n",
    "Now, we execute our analysis script including segmentation and data extraction on all selected image sequences!"
   ]
  },
  {
   "cell_type": "code",
   "execution_count": null,
   "id": "a2354758-3b88-49c5-9efa-dfccb37ed2ec",
   "metadata": {},
   "outputs": [],
   "source": [
    "from tqdm.auto import tqdm\n",
    "\n",
    "now = datetime.today()\n",
    "\n",
    "script_to_execute = \"FluorescenceAnalysis.ipynb\"\n",
    "\n",
    "for image_id in tqdm(aerobic_images + anaerobic_images):\n",
    "    analyze_image(script_to_execute, image_id, timestamp=now)"
   ]
  },
  {
   "cell_type": "markdown",
   "id": "7523e0b0-f0a8-457b-aef6-3921c1ac5df2",
   "metadata": {},
   "source": [
    "# Analyze the outcomes"
   ]
  },
  {
   "cell_type": "markdown",
   "id": "a759727b-daa2-4d50-881a-e8fd19b534ae",
   "metadata": {},
   "source": [
    "### 1. Make units ready"
   ]
  },
  {
   "cell_type": "code",
   "execution_count": null,
   "id": "0775044f-409e-4099-a46f-4df841c8e3e1",
   "metadata": {},
   "outputs": [],
   "source": [
    "from acia import ureg\n",
    "from pint import set_application_registry\n",
    "import pint_pandas\n",
    "\n",
    "set_application_registry(ureg)\n",
    "# define fluorescence unit\n",
    "ureg.define(\"fluorescence = [au] = fluor = fluorescence\")"
   ]
  },
  {
   "cell_type": "markdown",
   "id": "421ed5c3-60b9-489d-aa87-8d04fef5aaa8",
   "metadata": {},
   "source": [
    "### 2. Define helper function to collect the data from analyses"
   ]
  },
  {
   "cell_type": "code",
   "execution_count": null,
   "id": "799f8895-545e-4283-b1e0-3048b9af02dc",
   "metadata": {},
   "outputs": [],
   "source": [
    "import numpy as np\n",
    "\n",
    "def collect_data(image_ids):\n",
    "    datas = []\n",
    "    for image_id in image_ids:\n",
    "        import pandas as pd\n",
    "        \n",
    "        print(image_id)\n",
    "\n",
    "        data = pd.read_csv(Path(\"\") / \"automated_executions\" / Path(script_to_execute).stem / now.isoformat() / f\"execution_{image_id}\" / \"allcells.csv\", decimal=',', sep=';', index_col=0)\n",
    "        data.iloc[0][\"my_area\"] = \"pixel ** 2\"\n",
    "        units = data.iloc[0]\n",
    "        data = data.drop([\"unit\"])\n",
    "        \n",
    "        data = data.applymap(lambda val: val.replace(',', '.'))\n",
    "        \n",
    "        # convert to floats\n",
    "        data = data.astype({col:\"float\" for col, unit in zip(data.columns, np.array(units))})\n",
    "        \n",
    "        # convert to pint units\n",
    "        data = data.astype({col:f\"pint[{unit}]\" for col, unit in zip(data.columns, np.array(units))})\n",
    "\n",
    "        data[\"image_id\"] = image_id\n",
    "        datas.append(data)\n",
    "        \n",
    "    return pd.concat(datas)    "
   ]
  },
  {
   "cell_type": "markdown",
   "id": "e2471a92-2289-4262-9fed-428c7c647b51",
   "metadata": {},
   "source": [
    "### 3. Extract data\n",
    "\n",
    "We collect all the informaiton from the analyzed image sequences."
   ]
  },
  {
   "cell_type": "code",
   "execution_count": null,
   "id": "8de55ae1-896f-4b96-9cf3-4c759dff2d10",
   "metadata": {},
   "outputs": [],
   "source": [
    "# collect all the aerobic data\n",
    "dataset = collect_data(aerobic_images)\n",
    "\n",
    "# collect all the anaerobic data\n",
    "an_dataset = collect_data(anaerobic_images)"
   ]
  },
  {
   "cell_type": "markdown",
   "id": "57110d26-9a2a-4a58-9593-26264f450798",
   "metadata": {},
   "source": [
    "### 4. Visualize data\n",
    "\n",
    "Now we visualize the development of anerobic and aerobic experiments by plotting their GFP development over time. The error bars indicate the spread of GFP in cells at the timestep."
   ]
  },
  {
   "cell_type": "code",
   "execution_count": null,
   "id": "f171193e-61a5-433c-87e6-597d8be61554",
   "metadata": {},
   "outputs": [],
   "source": [
    "# define the maximum time we consider\n",
    "time_limit = 9  # in hours"
   ]
  },
  {
   "cell_type": "code",
   "execution_count": null,
   "id": "f833b0c3-39bc-4fa0-9c7f-314b5b78c962",
   "metadata": {},
   "outputs": [],
   "source": [
    "import pandas as pd\n",
    "\n",
    "# prepare aerobic\n",
    "frame = pd.DataFrame({'time': np.array(dataset[\"time\"].pint.magnitude), 'gfp': np.array(dataset[\"mean gfp / area\"].pint.magnitude)})\n",
    "frame = frame[frame['time'] <= time_limit]\n",
    "\n",
    "# prepare anaerobic\n",
    "an_frame = pd.DataFrame({'time': np.array(an_dataset[\"time\"].pint.magnitude), 'gfp': np.array(an_dataset[\"mean gfp / area\"].pint.magnitude)})\n",
    "an_frame = an_frame[an_frame['time'] <= time_limit]"
   ]
  },
  {
   "cell_type": "code",
   "execution_count": null,
   "id": "783a6766-3021-47a9-9b88-256c4f2b461d",
   "metadata": {},
   "outputs": [],
   "source": [
    "import seaborn as sns\n",
    "import matplotlib.pyplot as plt\n",
    "fig, axes = plt.subplots(2, 1, figsize=(15, 20))\n",
    "\n",
    "# plot aerobic\n",
    "axes[0].axvspan(0, 9, facecolor='#add8e6', alpha=0.25)\n",
    "sns.lineplot(data=frame, x=\"time\", y=\"gfp\", errorbar=\"sd\", err_style=\"bars\", color=\"green\", ax=axes[0], marker='o')\n",
    "plt.xlim((0, time_limit))\n",
    "axes[0].set_title(\"Aerboic GFP development\", fontsize=20)\n",
    "axes[0].set_ylabel(r\"GFP fluorescence [$\\frac{a.u.}{pixel^2}$]\", fontsize=15)\n",
    "axes[0].set_xlabel(f'Time [${dataset[\"time\"].pint.u:~L}$]', fontsize=15)\n",
    "axes[0].set_xlim((0, time_limit))\n",
    "\n",
    "\n",
    "# plot anaerobic\n",
    "import seaborn as sns\n",
    "axes[1].axvspan(8, 9, facecolor='#add8e6', alpha=0.25)\n",
    "axes[1].axvspan(0, 8, facecolor='#e9baaa', alpha=0.25)\n",
    "sns.lineplot(data=an_frame, x=\"time\", y=\"gfp\", errorbar=\"sd\", err_style=\"bars\", color=\"green\", ax=axes[1], marker='o')\n",
    "axes[1].set_xlim((0, time_limit+.05))\n",
    "#axes[1].set_ylim((0,70))\n",
    "axes[1].set_ylabel(r\"GFP fluorescence [$\\frac{a.u.}{pixel^2}$]\", fontsize=15)\n",
    "axes[1].set_title(\"Anaerobic GFP development\", fontsize=20)\n",
    "axes[1].set_xlabel(f'Time [${an_dataset[\"time\"].pint.u:~L}$]', fontsize=15)\n",
    "\n",
    "fig.patch.set_facecolor('white')\n",
    "plt.tight_layout()\n",
    "plt.savefig(\"result.png\")"
   ]
  }
 ],
 "metadata": {
  "kernelspec": {
   "display_name": "Python 3 (ipykernel)",
   "language": "python",
   "name": "python3"
  },
  "language_info": {
   "codemirror_mode": {
    "name": "ipython",
    "version": 3
   },
   "file_extension": ".py",
   "mimetype": "text/x-python",
   "name": "python",
   "nbconvert_exporter": "python",
   "pygments_lexer": "ipython3",
   "version": "3.8.16"
  }
 },
 "nbformat": 4,
 "nbformat_minor": 5
}
